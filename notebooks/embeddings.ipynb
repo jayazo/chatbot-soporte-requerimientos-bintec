{
 "cells": [
  {
   "cell_type": "markdown",
   "metadata": {},
   "source": [
    "# Creacion de Embeddings"
   ]
  },
  {
   "cell_type": "code",
   "execution_count": 1,
   "metadata": {},
   "outputs": [],
   "source": [
    "from langchain.embeddings import HuggingFaceEmbeddings\n",
    "from langchain.text_splitter import CharacterTextSplitter\n",
    "from langchain.document_loaders import PyPDFLoader\n",
    "from langchain.vectorstores import Chroma\n",
    "\n",
    "import os"
   ]
  },
  {
   "cell_type": "code",
   "execution_count": 2,
   "metadata": {},
   "outputs": [],
   "source": [
    "def get_vector_store_from_docs():\n",
    "   docs = []\n",
    "   for pdf in os.listdir(\"../pdf\"):\n",
    "      loader = PyPDFLoader(f\"../pdf/{pdf}\")\n",
    "      docs.extend(loader.load())\n",
    "\n",
    "   text_splitter = CharacterTextSplitter(chunk_size=500, chunk_overlap=30)\n",
    "   chunked_docs = text_splitter.split_documents(docs)\n",
    "   \n",
    "   vector_db = Chroma.from_documents(chunked_docs, embedding=HuggingFaceEmbeddings(), persist_directory=\"../vector_store\")\n",
    "   vector_db.persist()\n",
    "\n",
    "   return vector_db   "
   ]
  },
  {
   "cell_type": "code",
   "execution_count": 3,
   "metadata": {},
   "outputs": [
    {
     "name": "stderr",
     "output_type": "stream",
     "text": [
      "c:\\Users\\jose.ayazo\\Documents\\bancolombia\\bintec\\chainlit_prueba_concepto\\.venv\\lib\\site-packages\\tqdm\\auto.py:21: TqdmWarning: IProgress not found. Please update jupyter and ipywidgets. See https://ipywidgets.readthedocs.io/en/stable/user_install.html\n",
      "  from .autonotebook import tqdm as notebook_tqdm\n"
     ]
    },
    {
     "data": {
      "text/plain": [
       "<langchain.vectorstores.chroma.Chroma at 0x1ab03b363a0>"
      ]
     },
     "execution_count": 3,
     "metadata": {},
     "output_type": "execute_result"
    }
   ],
   "source": [
    "get_vector_store_from_docs()"
   ]
  }
 ],
 "metadata": {
  "kernelspec": {
   "display_name": ".venv",
   "language": "python",
   "name": "python3"
  },
  "language_info": {
   "codemirror_mode": {
    "name": "ipython",
    "version": 3
   },
   "file_extension": ".py",
   "mimetype": "text/x-python",
   "name": "python",
   "nbconvert_exporter": "python",
   "pygments_lexer": "ipython3",
   "version": "3.8.10"
  },
  "orig_nbformat": 4
 },
 "nbformat": 4,
 "nbformat_minor": 2
}
